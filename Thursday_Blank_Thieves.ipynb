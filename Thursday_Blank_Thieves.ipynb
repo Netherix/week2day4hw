{
 "cells": [
  {
   "cell_type": "markdown",
   "metadata": {},
   "source": [
    "# Object-Oriented-Programming (OOP)"
   ]
  },
  {
   "cell_type": "markdown",
   "metadata": {},
   "source": [
    "## Tasks Today:\n",
    "\n",
    "   \n",
    "\n",
    "1) <b>Creating a Class (Initializing/Declaring)</b> <br>\n",
    "2) <b>Using a Class (Instantiating)</b> <br>\n",
    " &nbsp;&nbsp;&nbsp;&nbsp; a) Creating One Instance <br>\n",
    " &nbsp;&nbsp;&nbsp;&nbsp; b) Creating Multiple Instances <br>\n",
    " &nbsp;&nbsp;&nbsp;&nbsp; c) In-Class Exercise #1 - Create a Class 'Car' and instantiate three different makes of cars <br>\n",
    "3) <b>The \\__init\\__() Method</b> <br>\n",
    " &nbsp;&nbsp;&nbsp;&nbsp; a) The 'self' Attribute <br>\n",
    "4) <b>Class Attributes</b> <br>\n",
    " &nbsp;&nbsp;&nbsp;&nbsp; a) Initializing Attributes <br>\n",
    " &nbsp;&nbsp;&nbsp;&nbsp; b) Setting an Attribute Outside of the \\__init\\__() Method <br>\n",
    " &nbsp;&nbsp;&nbsp;&nbsp; c) Setting Defaults for Attributes <br>\n",
    " &nbsp;&nbsp;&nbsp;&nbsp; d) Accessing Class Attributes <br>\n",
    " &nbsp;&nbsp;&nbsp;&nbsp; e) Changing Class Attributes <br>\n",
    " &nbsp;&nbsp;&nbsp;&nbsp; f) In-Class Exercise #2 - Add a color and wheels attribute to your 'Car' class <br>\n",
    "5) <b>Class Methods</b> <br>\n",
    " &nbsp;&nbsp;&nbsp;&nbsp; a) Creating <br>\n",
    " &nbsp;&nbsp;&nbsp;&nbsp; b) Calling <br>\n",
    " &nbsp;&nbsp;&nbsp;&nbsp; c) Modifying an Attribute's Value Through a Method <br>\n",
    " &nbsp;&nbsp;&nbsp;&nbsp; d) Incrementing an Attribute's Value Through a Method <br>\n",
    " &nbsp;&nbsp;&nbsp;&nbsp; e) In-Class Exercise #3 - Add a method that prints the cars color and wheel number, then call them <br>\n",
    "6) <b>Inheritance</b> <br>\n",
    " &nbsp;&nbsp;&nbsp;&nbsp; a) Syntax for Inheriting from a Parent Class <br>\n",
    " &nbsp;&nbsp;&nbsp;&nbsp; b) The \\__init\\__() Method for a Child Class (super()) <br>\n",
    " &nbsp;&nbsp;&nbsp;&nbsp; c) Defining Attributes and Methods for the Child Class <br>\n",
    " &nbsp;&nbsp;&nbsp;&nbsp; d) Method Overriding <br>\n",
    " &nbsp;&nbsp;&nbsp;&nbsp; e) In-Class Exercise #4 - Create a class 'Ford' that inherits from 'Car' class and initialize it as a Blue Ford Explorer with 4 wheels using the super() method <br>\n",
    "7) <b>Classes as Attributes</b> <br>\n",
    "8) <b>Exercises</b> <br>\n",
    " &nbsp;&nbsp;&nbsp;&nbsp; a) Exercise #1 - Turn the shopping cart program from yesterday into an object-oriented program <br>"
   ]
  },
  {
   "cell_type": "markdown",
   "metadata": {},
   "source": [
    "## Creating a Class (Initializing/Declaring)\n",
    "<p>When creating a class, function, or even a variable you are initializing that object. Initializing and Declaring occur at the same time in Python, whereas in lower level languages you have to declare an object before initializing it. This is the first step in the process of using a class.</p>"
   ]
  },
  {
   "cell_type": "code",
   "execution_count": 1,
   "metadata": {},
   "outputs": [],
   "source": [
    "class Car():\n",
    "    wheels = 4\n",
    "    color = 'blue'\n",
    "\n"
   ]
  },
  {
   "cell_type": "markdown",
   "metadata": {},
   "source": [
    "## Using a Class (Instantiating)\n",
    "<p>The process of creating a class is called <i>Instantiating</i>. Each time you create a variable of that type of class, it is referred to as an <i>Instance</i> of that class. This is the second step in the process of using a class.</p>"
   ]
  },
  {
   "cell_type": "markdown",
   "metadata": {},
   "source": [
    "##### Creating One Instance"
   ]
  },
  {
   "cell_type": "code",
   "execution_count": 2,
   "metadata": {},
   "outputs": [
    {
     "name": "stdout",
     "output_type": "stream",
     "text": [
      "blue\n"
     ]
    }
   ],
   "source": [
    "ford = Car()\n",
    "\n",
    "print(ford.color)"
   ]
  },
  {
   "cell_type": "markdown",
   "metadata": {},
   "source": [
    "##### Creating Multiple Instances"
   ]
  },
  {
   "cell_type": "code",
   "execution_count": 3,
   "metadata": {},
   "outputs": [
    {
     "name": "stdout",
     "output_type": "stream",
     "text": [
      "blue\n"
     ]
    }
   ],
   "source": [
    "nissan = Car()\n",
    "chevy= Car()\n",
    "honda = Car()\n",
    "\n",
    "print(nissan.color)"
   ]
  },
  {
   "cell_type": "markdown",
   "metadata": {},
   "source": [
    "##### In-Class Exercise #1 - Create a Class 'Car' and Instantiate three different makes of cars"
   ]
  },
  {
   "cell_type": "code",
   "execution_count": null,
   "metadata": {},
   "outputs": [],
   "source": [
    "class Car():\n",
    "    wheels = 4\n",
    "    color = 'blue'\n",
    "\n",
    "nissan = Car()\n",
    "chevy = Car()\n",
    "honda = Car()\n"
   ]
  },
  {
   "cell_type": "markdown",
   "metadata": {},
   "source": [
    "## The \\__init\\__() Method <br>\n",
    "<p>This method is used in almost every created class, and called only once upon the creation of the class instance. This method will initialize all variables needed for the object.</p>"
   ]
  },
  {
   "cell_type": "code",
   "execution_count": 8,
   "metadata": {},
   "outputs": [
    {
     "name": "stdout",
     "output_type": "stream",
     "text": [
      "grey\n",
      "v8\n",
      "4\n"
     ]
    }
   ],
   "source": [
    "class Car():\n",
    "    wheels = 4 #class attributes\n",
    "    def __init__(self, make, model, color, engine): #Instance Attributes\n",
    "        self.make = make\n",
    "        self.model = model\n",
    "        self.color = color\n",
    "        self.engine = engine\n",
    "\n",
    "nissan = Car(\"Nissan\", \"Altima\", \"grey\", \"v4\")\n",
    "chevy = Car('Chevrolett', 'Silverado', 'black', 'v8')\n",
    "\n",
    "\n",
    "# Accesssing Instance Attributes\n",
    "print(nissan.color)\n",
    "print(chevy.engine)\n",
    "\n",
    "#Accessing Class attributes\n",
    "\n",
    "print(nissan.wheels)\n"
   ]
  },
  {
   "cell_type": "markdown",
   "metadata": {},
   "source": [
    "##### The 'self' Attribute <br>\n",
    "<p>This attribute is required to keep track of specific instance's attributes. Without the self attribute, the program would not know how to reference or keep track of an instance's attributes.</p>"
   ]
  },
  {
   "cell_type": "code",
   "execution_count": null,
   "metadata": {},
   "outputs": [],
   "source": [
    "# see above"
   ]
  },
  {
   "cell_type": "markdown",
   "metadata": {},
   "source": [
    "## Class Attributes <br>\n",
    "<p>While variables are inside of a class, they are referred to as attributes and not variables. When someone says 'attribute' you know they're speaking about a class. Attributes can be initialized through the init method, or outside of it.</p>"
   ]
  },
  {
   "cell_type": "markdown",
   "metadata": {},
   "source": [
    "##### Initializing Attributes"
   ]
  },
  {
   "cell_type": "code",
   "execution_count": null,
   "metadata": {},
   "outputs": [],
   "source": [
    "# see above"
   ]
  },
  {
   "cell_type": "markdown",
   "metadata": {},
   "source": [
    "##### Accessing Class Attributes"
   ]
  },
  {
   "cell_type": "code",
   "execution_count": null,
   "metadata": {
    "scrolled": true
   },
   "outputs": [],
   "source": [
    "# See Above"
   ]
  },
  {
   "cell_type": "markdown",
   "metadata": {},
   "source": [
    "##### Setting Defaults for Attributes"
   ]
  },
  {
   "cell_type": "code",
   "execution_count": 13,
   "metadata": {},
   "outputs": [
    {
     "name": "stdout",
     "output_type": "stream",
     "text": [
      "coupe\n",
      "4\n",
      "Hyundai\n",
      "2\n"
     ]
    }
   ],
   "source": [
    "class Vehicle:\n",
    "\n",
    "    def __init__(self, make, model, classification, wheels=4): \n",
    "        self.make = make\n",
    "        self.model = model\n",
    "        self.classification = classification\n",
    "        self.wheels = wheels\n",
    "\n",
    "my_car = Vehicle('Hyundai', 'Sonata', 'Sedan')\n",
    "\n",
    "my_car.classification = 'coupe' # changes from Sedan to coupe\n",
    "print(my_car.classification)\n",
    "\n",
    "print(my_car.wheels)\n",
    "print(my_car.make)\n",
    "\n",
    "motorcycle = Vehicle('Suzuki', 'bxr500', 'motorcycle', 2) # the 2 at the end changes wheels from 4 to 2\n",
    "print(motorcycle.wheels)"
   ]
  },
  {
   "attachments": {},
   "cell_type": "markdown",
   "metadata": {},
   "source": [
    "##### Changing Instance Attributes <br>\n",
    "<p>Keep in mind there are global class attributes and then there are attributes only available to each class instance which won't effect other classes.</p>"
   ]
  },
  {
   "cell_type": "code",
   "execution_count": null,
   "metadata": {},
   "outputs": [],
   "source": [
    "# see above"
   ]
  },
  {
   "cell_type": "markdown",
   "metadata": {},
   "source": [
    "##### In-Class Exercise #2 - Add a doors and seats attribute to your 'Car' class then print out two different instances with different doors and seats"
   ]
  },
  {
   "cell_type": "code",
   "execution_count": 16,
   "metadata": {},
   "outputs": [
    {
     "name": "stdout",
     "output_type": "stream",
     "text": [
      "{'doors': 2, 'seats': 2}\n",
      "{'doors': 3, 'seats': 18}\n"
     ]
    }
   ],
   "source": [
    "class Car():\n",
    "    wheel = 4\n",
    "    color = 'blue'\n",
    "    def __init__(self, doors, seats=2):\n",
    "        self.doors = doors\n",
    "        self.seats = seats\n",
    "\n",
    "ferrari = Car(2, 2)\n",
    "limo = Car(3, 18)\n",
    "\n",
    "print(ferrari.__dict__)\n",
    "print(limo.__dict__)\n"
   ]
  },
  {
   "cell_type": "markdown",
   "metadata": {},
   "source": [
    "## Class Methods <br>\n",
    "<p>While inside of a class, functions are referred to as 'methods'. If you hear someone mention methods, they're speaking about classes. Methods are essentially functions, but only callable on the instances of a class.</p>"
   ]
  },
  {
   "cell_type": "markdown",
   "metadata": {},
   "source": [
    "##### Creating"
   ]
  },
  {
   "cell_type": "code",
   "execution_count": 30,
   "metadata": {},
   "outputs": [
    {
     "name": "stdout",
     "output_type": "stream",
     "text": [
      "My name is Sean, I am 29 years old. I have blue colored eyes\n",
      "Name succesffuly changed to borris\n",
      "My name is borris, I am 29 years old. I have blue colored eyes\n",
      "Name succesffuly changed to rick\n",
      "Happy birthday, you are now 30 years old\n"
     ]
    }
   ],
   "source": [
    "class Person():\n",
    "\n",
    "    def __init__(self, name, age, eyecolor='brown'):\n",
    "        self.name = name\n",
    "        self.age = age\n",
    "        self.eyecolor = eyecolor\n",
    "\n",
    "    def get_info(self):\n",
    "        return f\"My name is {self.name}, I am {self.age} years old. I have {self.eyecolor} colored eyes\"\n",
    "    \n",
    "    # modifies an attribute within a METHOD\n",
    "    def name_change(self, newname): \n",
    "        self.name = newname\n",
    "        return f'Name succesffuly changed to {self.name}'\n",
    "    \n",
    "    def birthday(self):\n",
    "        self.age += 1\n",
    "        return f'Happy birthday, you are now {self.age} years old'\n",
    "    \n",
    "\n",
    "#calling my get_info method\n",
    "sean = Person('Sean', 29, 'blue')\n",
    "print(sean.get_info()) \n",
    "\n",
    "#Modifying attributes within a method\n",
    "print(sean.name_change('borris'))\n",
    "print(sean.get_info()) \n",
    "\n",
    "#Increment attribute with a method\n",
    "print(sean.birthday())"
   ]
  },
  {
   "cell_type": "markdown",
   "metadata": {},
   "source": [
    "##### Calling"
   ]
  },
  {
   "cell_type": "code",
   "execution_count": null,
   "metadata": {},
   "outputs": [],
   "source": [
    "# See Above"
   ]
  },
  {
   "cell_type": "markdown",
   "metadata": {},
   "source": [
    "##### Modifying an Attribute's Value Through a Method"
   ]
  },
  {
   "cell_type": "code",
   "execution_count": null,
   "metadata": {},
   "outputs": [],
   "source": [
    "# see above\n"
   ]
  },
  {
   "cell_type": "markdown",
   "metadata": {},
   "source": [
    "##### Incrementing an Attribute's Value Through a Method"
   ]
  },
  {
   "cell_type": "code",
   "execution_count": null,
   "metadata": {},
   "outputs": [],
   "source": [
    "# see above\n"
   ]
  },
  {
   "cell_type": "markdown",
   "metadata": {},
   "source": [
    "## Inheritance <br>\n",
    "<p>You can create a child-parent relationship between two classes by using inheritance. What this allows you to do is have overriding methods, but also inherit traits from the parent class. Think of it as an actual parent and child, the child will inherit the parent's genes, as will the classes in OOP</p>"
   ]
  },
  {
   "cell_type": "markdown",
   "metadata": {},
   "source": [
    "##### Syntax for Inheriting from a Parent Class"
   ]
  },
  {
   "cell_type": "code",
   "execution_count": 36,
   "metadata": {},
   "outputs": [
    {
     "name": "stdout",
     "output_type": "stream",
     "text": [
      "Hello, my name is Rhia, I am a Blue Staffy (pittbull), and I have 4 legs.\n",
      "I love breathing air\n",
      "None\n"
     ]
    }
   ],
   "source": [
    "class Mammal():\n",
    "    fur = True # a mamal will always have fur\n",
    "    def __init__(self, fur_color, species, legs=4):\n",
    "        self.fur_color = fur_color\n",
    "        self.species = species\n",
    "        self.legs = legs\n",
    "\n",
    "    def breathe(self):\n",
    "        print('I love breathing air')\n",
    "\n",
    "class Dog(Mammal):\n",
    "    def __init__(self, name, breed, fur_color, legs=4):\n",
    "        super().__init__(fur_color, legs) # prevents you from having to write self.fur_color and self. legs - can b useful if u have a lot of attributes. Initalizes parent attributes\n",
    "        self.name = name\n",
    "        self.breed = breed\n",
    "\n",
    "    def greet(self):\n",
    "         return f'Hello, my name is {self.name}, I am a {self.fur_color} {self.breed}, and I have {self.legs} legs.'\n",
    "        \n",
    "my_dog = Dog('Rhia', 'Staffy (pittbull)', 'Blue')\n",
    "\n",
    "print(my_dog.greet())\n",
    "print(my_dog.breathe()) # one benefit of parent/child class is that the child subclass (Dog) can use methods from the parent class (Mammal)\n",
    "\n",
    "        "
   ]
  },
  {
   "cell_type": "markdown",
   "metadata": {},
   "source": [
    "##### The \\__init\\__() Method for a Child Class - super()"
   ]
  },
  {
   "cell_type": "code",
   "execution_count": null,
   "metadata": {
    "scrolled": true
   },
   "outputs": [],
   "source": [
    "# see above"
   ]
  },
  {
   "cell_type": "markdown",
   "metadata": {},
   "source": [
    "##### Defining Attributes and Methods for the Child Class"
   ]
  },
  {
   "cell_type": "code",
   "execution_count": null,
   "metadata": {},
   "outputs": [],
   "source": [
    "# See Above"
   ]
  },
  {
   "cell_type": "markdown",
   "metadata": {},
   "source": [
    "## Classes as Attributes <br>\n",
    "<p>Classes can also be used as attributes within another class. This is useful in situations where you need to keep variables locally stored, instead of globally stored.</p>"
   ]
  },
  {
   "cell_type": "code",
   "execution_count": 28,
   "metadata": {},
   "outputs": [
    {
     "name": "stdout",
     "output_type": "stream",
     "text": [
      "V6\n",
      "I have a {self.engine} engine under the hood\n",
      "None\n"
     ]
    }
   ],
   "source": [
    "class Engine():\n",
    "    def __init__(self, engine):\n",
    "        self.engine = engine\n",
    "\n",
    "v8 = Engine('V8')\n",
    "v6 = Engine('V6')\n",
    "\n",
    "print(v6.engine)\n",
    "\n",
    "class Car():\n",
    "    def __init__(self, make, model, engine):\n",
    "        self.make = make\n",
    "        self.model = model\n",
    "        self.engine = engine\n",
    "\n",
    "    def getInfo(self):\n",
    "        print('I have a {self.engine} engine under the hood')\n",
    "\n",
    "my_car = Car('Hyundai', 'Sonata', v6.engine)\n",
    "\n",
    "print(my_car.getInfo())\n",
    "\n",
    "\n",
    "\n",
    "        "
   ]
  },
  {
   "cell_type": "markdown",
   "metadata": {},
   "source": [
    "# Exercises"
   ]
  },
  {
   "cell_type": "markdown",
   "metadata": {},
   "source": [
    "### Exercise 1 - Turn the shopping cart program from yesterday into an object-oriented program\n",
    "\n",
    "The comments in the cell below are there as a guide for thinking about the problem. However, if you feel a different way is best for you and your own thought process, please do what feels best for you by all means."
   ]
  },
  {
   "cell_type": "code",
   "execution_count": 40,
   "metadata": {},
   "outputs": [],
   "source": [
    "class Cart:\n",
    "    def __init__(self):\n",
    "        self.shopping_list = [] # I created an empty list that is also an attribute of the Cart class that is also storing items for every instance of the Cart class\n",
    "\n",
    "    def add_item(self, item):\n",
    "        self.shopping_list.append(item)\n",
    "        print(f\"You have added {item} to your shopping list\")\n",
    "\n",
    "    def remove_item(self, item):\n",
    "        if item in self.shopping_list:\n",
    "            self.shopping_list.remove(item)\n",
    "            print(f\"{item} has been removed from your list!\")\n",
    "        else:\n",
    "            print(f\"{item} is not currently found in your shopping list\")\n",
    "\n",
    "    def show_list(self):\n",
    "        print(f\"Your current shopping list is: {self.shopping_list}\")\n",
    "\n",
    "\n",
    "def interface():\n",
    "    cart = Cart()\n",
    "\n",
    "    while True:\n",
    "        print(\"What would you like to do?\")\n",
    "        print(\"1. Add an item to your list\")\n",
    "        print(\"2. Remove an item from your list\")\n",
    "        print(\"3. Show your current shopping list\")\n",
    "        print(\"4. Exit the program\")\n",
    "\n",
    "        choice = input(\"Enter your choice (1-4): \")\n",
    "\n",
    "        if choice == \"1\":\n",
    "            item = input(\"Enter the item you would like to add: \")\n",
    "            cart.add_item(item)\n",
    "\n",
    "        elif choice == \"2\":\n",
    "            item = input(\"Remove an item from your list: \")\n",
    "            cart.remove_item(item)\n",
    "\n",
    "        elif choice == \"3\":\n",
    "            cart.show_list()\n",
    "\n",
    "        elif choice == \"4\":\n",
    "            print(f\"Your shopping list is: {cart.shopping_list}\")\n",
    "            print(\"Thank you for choosing Food Lion!\")\n",
    "            break\n",
    "\n",
    "        else:\n",
    "            print(\"Invalid choice you silly goose! Please choose a number from 1-4\")\n",
    "\n",
    "\n",
    "interface()"
   ]
  },
  {
   "cell_type": "markdown",
   "metadata": {},
   "source": [
    "### Exercise 2 - Write a Python class which has two methods get_String and print_String. get_String accept a string from the user and print_String print the string in upper case"
   ]
  },
  {
   "cell_type": "code",
   "execution_count": 7,
   "metadata": {},
   "outputs": [
    {
     "name": "stdout",
     "output_type": "stream",
     "text": [
      "Your sentence in upper case: BLEH BLEH BLEH\n"
     ]
    }
   ],
   "source": [
    "class Caps():\n",
    "    \n",
    "    def get_String(self):\n",
    "        self.value = input(\"Please enter your sentence here: \")\n",
    "    \n",
    "    def print_String(self):\n",
    "        print(f\"Your sentence in upper case: {self.value.upper()}\")\n",
    "\n",
    "caps = Caps()\n",
    "caps.get_String()\n",
    "caps.print_String()\n",
    "\n",
    "\n",
    "\n",
    "    \n",
    "\n",
    "    \n",
    "\n"
   ]
  }
 ],
 "metadata": {
  "kernelspec": {
   "display_name": "Python 3",
   "language": "python",
   "name": "python3"
  },
  "language_info": {
   "codemirror_mode": {
    "name": "ipython",
    "version": 3
   },
   "file_extension": ".py",
   "mimetype": "text/x-python",
   "name": "python",
   "nbconvert_exporter": "python",
   "pygments_lexer": "ipython3",
   "version": "3.10.11"
  },
  "vscode": {
   "interpreter": {
    "hash": "aa82987a71ca0339a52998cd22613b0c002bda8349fa32a0cb67ceec3936a2bf"
   }
  }
 },
 "nbformat": 4,
 "nbformat_minor": 2
}
